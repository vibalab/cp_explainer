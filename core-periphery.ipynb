{
 "cells": [
  {
   "cell_type": "code",
   "execution_count": 1,
   "metadata": {},
   "outputs": [
    {
     "name": "stderr",
     "output_type": "stream",
     "text": [
      "/Users/jeongjin/miniconda3/lib/python3.11/site-packages/pygad/pygad.py:1139: UserWarning: The 'delay_after_gen' parameter is deprecated starting from PyGAD 3.3.0. To delay or pause the evolution after each generation, assign a callback function/method to the 'on_generation' parameter to adds some time delay.\n",
      "  warnings.warn(\"The 'delay_after_gen' parameter is deprecated starting from PyGAD 3.3.0. To delay or pause the evolution after each generation, assign a callback function/method to the 'on_generation' parameter to adds some time delay.\")\n"
     ]
    },
    {
     "name": "stdout",
     "output_type": "stream",
     "text": [
      "Best core indices (Borgatti and Everett): [0, 2, 32, 33]\n",
      "Maximum Borgatti and Everett correlation ρ: 0.4234938453354855\n",
      "Best core indices (Brusco): [33]\n",
      "Maximum Brusco metric Z: 467\n"
     ]
    }
   ],
   "source": [
    "import numpy as np\n",
    "import networkx as nx\n",
    "import pygad\n",
    "from core_periphery import Stochastic_Block_Model\n",
    "\n",
    "# Load the graph and adjacency matrix\n",
    "G = nx.karate_club_graph()\n",
    "A = nx.to_numpy_array(G)\n",
    "A = np.where(A != 0, 1, 0)\n",
    "n = A.shape[0]\n",
    "\n",
    "# Initialize the SBM class with the adjacency matrix\n",
    "sbm = Stochastic_Block_Model(G, A)\n",
    "\n",
    "# Parameters for Borgatti and Everett correlation optimization\n",
    "ga_instance_borgatti = pygad.GA(\n",
    "    num_generations=1000,\n",
    "    num_parents_mating=5,\n",
    "    fitness_func=sbm.fitness_function_borgatti_everett,\n",
    "    sol_per_pop=20,\n",
    "    num_genes=n,\n",
    "    gene_type=float,\n",
    "    gene_space=[0, 1],  # Genes will be floats between 0 and 1\n",
    "    mutation_type=\"random\",\n",
    "    mutation_percent_genes=10,\n",
    ")\n",
    "\n",
    "# Run the genetic algorithm for Borgatti and Everett correlation\n",
    "ga_instance_borgatti.run()\n",
    "\n",
    "# Get the best solution for Borgatti and Everett correlation\n",
    "solution_borgatti, solution_fitness_borgatti, solution_idx_borgatti = ga_instance_borgatti.best_solution()\n",
    "best_core_indices_borgatti = [i for i, gene in enumerate(solution_borgatti) if gene > 0.5]\n",
    "ρ = sbm.borgatti_everett_correlation(best_core_indices_borgatti)\n",
    "print(f\"Best core indices (Borgatti and Everett): {best_core_indices_borgatti}\")\n",
    "print(f\"Maximum Borgatti and Everett correlation ρ: {ρ}\")\n",
    "\n",
    "# Parameters for Brusco metric optimization\n",
    "ga_instance_brusco = pygad.GA(\n",
    "    num_generations=1000,\n",
    "    num_parents_mating=5,\n",
    "    fitness_func=sbm.fitness_function_brusco_metric,\n",
    "    sol_per_pop=20,\n",
    "    num_genes=n,\n",
    "    gene_type=float,\n",
    "    gene_space=[0, 1],  # Genes will be floats between 0 and 1\n",
    "    mutation_type=\"random\",\n",
    "    mutation_percent_genes=10,\n",
    ")\n",
    "\n",
    "# Run the genetic algorithm for Brusco metric\n",
    "ga_instance_brusco.run()\n",
    "\n",
    "# Get the best solution for Brusco metric\n",
    "solution_brusco, solution_fitness_brusco, solution_idx_brusco = ga_instance_brusco.best_solution()\n",
    "best_core_indices_brusco = [i for i, gene in enumerate(solution_brusco) if gene > 0.5]\n",
    "Z = sbm.brusco_metric(best_core_indices_brusco)\n",
    "print(f\"Best core indices (Brusco): {best_core_indices_brusco}\")\n",
    "print(f\"Maximum Brusco metric Z: {Z}\")"
   ]
  },
  {
   "cell_type": "code",
   "execution_count": 2,
   "metadata": {},
   "outputs": [
    {
     "name": "stdout",
     "output_type": "stream",
     "text": [
      "Best core indices (Holme): [0, 1, 2, 3, 32, 33, 7, 8, 13, 30]\n",
      "Holme Metric: 23.58565258968173\n",
      "Best core indices (Silva): [0, 2, 33, 31, 8, 13]\n",
      "Silva Metric (Core Coefficient): 0.8235294117647058\n"
     ]
    }
   ],
   "source": [
    "import networkx as nx\n",
    "import numpy as np\n",
    "from core_periphery import Transport\n",
    "\n",
    "\n",
    "# Example usage\n",
    "G = nx.karate_club_graph()\n",
    "A = nx.to_numpy_array(G)\n",
    "A = np.where(A != 0, 1, 0)\n",
    "n = A.shape[0]\n",
    "tp = Transport(G, A)\n",
    "metric, best_cores = tp.holme_metric(G, 1000)\n",
    "\n",
    "print(f\"Best core indices (Holme): {best_cores}\")\n",
    "print(f\"Holme Metric: {metric}\")\n",
    "\n",
    "metric, best_cores, _ = tp.silva_core_coefficient(G)\n",
    "\n",
    "print(f\"Best core indices (Silva): {best_cores}\")\n",
    "print(f\"Silva Metric (Core Coefficient): {metric}\")\n"
   ]
  },
  {
   "cell_type": "code",
   "execution_count": 3,
   "metadata": {},
   "outputs": [
    {
     "name": "stdout",
     "output_type": "stream",
     "text": [
      "CP-Centralization: 0.640898039713278\n",
      "Z-Score: 2.403697958424746\n",
      "Core nodes (threshold=0.7): [0, 32, 33]\n"
     ]
    }
   ],
   "source": [
    "from core_periphery import Rossa\n",
    "\n",
    "rossa = Rossa(G)\n",
    "alpha = rossa.get_alpha()\n",
    "cp_centralization = rossa.get_cp_centralization()\n",
    "z_score = rossa.calculate_z_score(num_randomizations=100)\n",
    "core_nodes = rossa.extract_core_nodes(0.7)\n",
    "#print(\"Alpha values:\", alpha)\n",
    "print(\"CP-Centralization:\", cp_centralization)\n",
    "print(\"Z-Score:\", z_score)\n",
    "print(\"Core nodes (threshold={}):\".format(0.7), core_nodes)"
   ]
  },
  {
   "cell_type": "code",
   "execution_count": 5,
   "metadata": {},
   "outputs": [
    {
     "name": "stdout",
     "output_type": "stream",
     "text": [
      "Core Nodes: [ 0  2 32 33]\n",
      "Proportional Reduction of Error (PRE): 0.2303820224868307\n"
     ]
    }
   ],
   "source": [
    "from core_periphery import Minre\n",
    "\n",
    "# Karate Club 그래프 로드\n",
    "G = nx.karate_club_graph()\n",
    "A = nx.to_numpy_array(G)\n",
    "\n",
    "model = Minre(G, A)\n",
    "w, best_cores, pre = model.minres()\n",
    "\n",
    "print(\"Core Nodes:\", best_cores)\n",
    "print(\"Proportional Reduction of Error (PRE):\", pre)"
   ]
  },
  {
   "cell_type": "code",
   "execution_count": null,
   "metadata": {},
   "outputs": [],
   "source": []
  }
 ],
 "metadata": {
  "kernelspec": {
   "display_name": "base",
   "language": "python",
   "name": "python3"
  },
  "language_info": {
   "codemirror_mode": {
    "name": "ipython",
    "version": 3
   },
   "file_extension": ".py",
   "mimetype": "text/x-python",
   "name": "python",
   "nbconvert_exporter": "python",
   "pygments_lexer": "ipython3",
   "version": "3.11.5"
  }
 },
 "nbformat": 4,
 "nbformat_minor": 2
}
